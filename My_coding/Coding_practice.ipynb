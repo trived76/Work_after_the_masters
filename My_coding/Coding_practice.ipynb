{
 "cells": [
  {
   "cell_type": "markdown",
   "metadata": {},
   "source": [
    "# Coding Practice\n",
    "\n",
    "Every week this Jupyter notebook is updated with one problem and code. Most of the problem statements are taken from [HackerRank](https://www.hackerrank.com/) website.\n",
    "\n",
    "In every snippet, I mention the problem statement and the code that came into my mind when I initially tried to solve the problem. After that, I write time complexity (I do not know much but I will try my best to evaluate it correctly!). Finally, I come up to reduce the time complexity by optimizing the code."
   ]
  },
  {
   "cell_type": "code",
   "execution_count": 36,
   "metadata": {},
   "outputs": [],
   "source": [
    "from IPython.display import IFrame"
   ]
  },
  {
   "cell_type": "markdown",
   "metadata": {},
   "source": [
    "## Code 1: 23rd August 2019"
   ]
  },
  {
   "cell_type": "markdown",
   "metadata": {},
   "source": [
    "### Sparse arrays problem statement"
   ]
  },
  {
   "cell_type": "code",
   "execution_count": 56,
   "metadata": {},
   "outputs": [
    {
     "data": {
      "text/html": [
       "\n",
       "        <iframe\n",
       "            width=\"100%\"\n",
       "            height=\"600\"\n",
       "            src=\"Problem_statements/Problem1_Sparse_Array.png\"\n",
       "            frameborder=\"0\"\n",
       "            allowfullscreen\n",
       "        ></iframe>\n",
       "        "
      ],
      "text/plain": [
       "<IPython.lib.display.IFrame at 0x2389e67a1d0>"
      ]
     },
     "metadata": {},
     "output_type": "display_data"
    }
   ],
   "source": [
    "display(IFrame('Problem_statements/Problem1_Sparse_Array.png', width='100%', height=600))"
   ]
  },
  {
   "cell_type": "markdown",
   "metadata": {},
   "source": [
    "### Code initial try (n<sup>2</sup> time complexity)"
   ]
  },
  {
   "cell_type": "code",
   "execution_count": 59,
   "metadata": {},
   "outputs": [],
   "source": [
    "# Complete the matchingStrings function below.\n",
    "def matchingStrings(strings, queries):\n",
    "    count_query = []\n",
    "    for i in range(len(queries)):\n",
    "        count_onequery = 0\n",
    "        for j in range(len(strings)):\n",
    "            if queries[i] == strings[j]:\n",
    "                count_onequery += 1\n",
    "        count_query.append(count_onequery) \n",
    "    return count_query   "
   ]
  },
  {
   "cell_type": "markdown",
   "metadata": {},
   "source": [
    "From the code snippet that is shown above, it can be understood that the code has two for loops. Each of these for loops will contribute towards the linear time complexity. However, it is a nested for case. Thus, the time complexity for the overall case will be: n*n = n<sup>2</sup>.\n",
    "\n",
    "The following code can also work and it will contribute towards O(n) time complexity. The code is optimized as well."
   ]
  },
  {
   "cell_type": "code",
   "execution_count": 1,
   "metadata": {
    "scrolled": true
   },
   "outputs": [],
   "source": [
    "def matchingStrings(strings, queries):\n",
    "    queries_dict = dict.fromkeys(queries , int(0))\n",
    "    c = 0\n",
    "    for i in strings:\n",
    "        try:\n",
    "            queries_dict[i] += 1\n",
    "        except:\n",
    "            c += 1\n",
    "    count_query = list(queries_dict.values())\n",
    "    return count_query"
   ]
  },
  {
   "cell_type": "code",
   "execution_count": null,
   "metadata": {},
   "outputs": [],
   "source": []
  }
 ],
 "metadata": {
  "kernelspec": {
   "display_name": "Python 3",
   "language": "python",
   "name": "python3"
  },
  "language_info": {
   "codemirror_mode": {
    "name": "ipython",
    "version": 3
   },
   "file_extension": ".py",
   "mimetype": "text/x-python",
   "name": "python",
   "nbconvert_exporter": "python",
   "pygments_lexer": "ipython3",
   "version": "3.6.5"
  }
 },
 "nbformat": 4,
 "nbformat_minor": 2
}
